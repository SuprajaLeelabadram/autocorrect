{
  "nbformat": 4,
  "nbformat_minor": 0,
  "metadata": {
    "colab": {
      "provenance": []
    },
    "kernelspec": {
      "name": "python3",
      "display_name": "Python 3"
    },
    "language_info": {
      "name": "python"
    }
  },
  "cells": [
    {
      "cell_type": "code",
      "execution_count": null,
      "metadata": {
        "id": "NqvYMWSAebld"
      },
      "outputs": [],
      "source": [
        "import nltk\n",
        "nltk.download('all')"
      ]
    },
    {
      "cell_type": "code",
      "source": [
        "# importing regular expression\n",
        "import re\n",
        "\n",
        "# words\n",
        "w = []\n",
        "\n",
        "# reading text file\n",
        "with open('/final.txt', 'r', encoding=\"utf8\") as f:\n",
        "\tfile_name_data = f.read()\n",
        "\tfile_name_data = file_name_data.lower()\n",
        "\tw = re.findall('\\w+', file_name_data)\n",
        "\n",
        "# vocabulary\n",
        "main_set = set(w)\n"
      ],
      "metadata": {
        "id": "AYcowEQKgXdN"
      },
      "execution_count": 3,
      "outputs": []
    },
    {
      "cell_type": "code",
      "source": [
        "# Functions to count the frequency\n",
        "# of the words in the whole text file\n",
        "\n",
        "\n",
        "def counting_words(words):\n",
        "\tword_count = {}\n",
        "\tfor word in words:\n",
        "\t\tif word in word_count:\n",
        "\t\t\tword_count[word] += 1\n",
        "\t\telse:\n",
        "\t\t\tword_count[word] = 1\n",
        "\treturn word_count\n"
      ],
      "metadata": {
        "id": "TOVJvfUrggk-"
      },
      "execution_count": 4,
      "outputs": []
    },
    {
      "cell_type": "code",
      "source": [
        "# Calculating the probability of each word\n",
        "def prob_cal(word_count_dict):\n",
        "\tprobs = {}\n",
        "\tm = sum(word_count_dict.values())\n",
        "\tfor key in word_count_dict.keys():\n",
        "\t\tprobs[key] = word_count_dict[key] / m\n",
        "\treturn probs\n"
      ],
      "metadata": {
        "id": "yXPLBY1ygsWj"
      },
      "execution_count": 5,
      "outputs": []
    },
    {
      "cell_type": "code",
      "source": [
        "!pip install pattern"
      ],
      "metadata": {
        "id": "YDBZtxpYg3tQ"
      },
      "execution_count": null,
      "outputs": []
    },
    {
      "cell_type": "code",
      "source": [
        "# LemmWord: extracting and adding\n",
        "# root word i.e.Lemma using pattern module\n",
        "import pattern\n",
        "from pattern.en import lemma, lexeme\n",
        "from nltk.stem import WordNetLemmatizer\n",
        "\n",
        "\n",
        "def LemmWord(word):\n",
        "\treturn list(lexeme(wd) for wd in word.split())[0]\n"
      ],
      "metadata": {
        "id": "5LdJyWlXhiFs"
      },
      "execution_count": 24,
      "outputs": []
    },
    {
      "cell_type": "code",
      "source": [
        "# Deleting letters from the words\n",
        "def DeleteLetter(word):\n",
        "\tdelete_list = []\n",
        "\tsplit_list = []\n",
        "\n",
        "\t# considering letters 0 to i then i to -1\n",
        "\t# Leaving the ith letter\n",
        "\tfor i in range(len(word)):\n",
        "\t\tsplit_list.append((word[0:i], word[i:]))\n",
        "\n",
        "\tfor a, b in split_list:\n",
        "\t\tdelete_list.append(a + b[1:])\n",
        "\treturn delete_list\n"
      ],
      "metadata": {
        "id": "YkHF7T84h_bF"
      },
      "execution_count": 25,
      "outputs": []
    },
    {
      "cell_type": "code",
      "source": [
        "# Switching two letters in a word\n",
        "def Switch_(word):\n",
        "\tsplit_list = []\n",
        "\tswitch_l = []\n",
        "\n",
        "\t#creating pair of the words(and breaking them)\n",
        "\tfor i in range(len(word)):\n",
        "\t\tsplit_list.append((word[0:i], word[i:]))\n",
        "\n",
        "\t#Printint the first word (i.e. a)\n",
        "\t#then replacing the first and second character of b\n",
        "\tswitch_l = [a + b[1] + b[0] + b[2:] for a, b in split_list if len(b) >= 2]\n",
        "\treturn switch_l\n"
      ],
      "metadata": {
        "id": "3l0WoVVxiEwx"
      },
      "execution_count": 26,
      "outputs": []
    },
    {
      "cell_type": "code",
      "source": [
        "def Replace_(word):\n",
        "\tsplit_l = []\n",
        "\treplace_list = []\n",
        "\n",
        "\t# Replacing the letter one-by-one from the list of alphs\n",
        "\tfor i in range(len(word)):\n",
        "\t\tsplit_l.append((word[0:i], word[i:]))\n",
        "\talphs = 'abcdefghijklmnopqrstuvwxyz'\n",
        "\treplace_list = [a + l + (b[1:] if len(b) > 1 else '')\n",
        "\t\t\t\t\tfor a, b in split_l if b for l in alphs]\n",
        "\treturn replace_list\n"
      ],
      "metadata": {
        "id": "Ltmu_FnziIow"
      },
      "execution_count": 27,
      "outputs": []
    },
    {
      "cell_type": "code",
      "source": [
        "def insert_(word):\n",
        "\tsplit_l = []\n",
        "\tinsert_list = []\n",
        "\n",
        "\t# Making pairs of the split words\n",
        "\tfor i in range(len(word) + 1):\n",
        "\t\tsplit_l.append((word[0:i], word[i:]))\n",
        "\n",
        "\t# Storing new words in a list\n",
        "\t# But one new character at each location\n",
        "\talphs = 'abcdefghijklmnopqrstuvwxyz'\n",
        "\tinsert_list = [a + l + b for a, b in split_l for l in alphs]\n",
        "\treturn insert_list\n"
      ],
      "metadata": {
        "id": "ikikHu-LiL34"
      },
      "execution_count": 28,
      "outputs": []
    },
    {
      "cell_type": "code",
      "source": [
        "# Collecting all the words\n",
        "# in a set(so that no word will repeat)\n",
        "def colab_1(word, allow_switches=True):\n",
        "\tcolab_1 = set()\n",
        "\tcolab_1.update(DeleteLetter(word))\n",
        "\tif allow_switches:\n",
        "\t\tcolab_1.update(Switch_(word))\n",
        "\tcolab_1.update(Replace_(word))\n",
        "\tcolab_1.update(insert_(word))\n",
        "\treturn colab_1\n",
        "\n",
        "# collecting words using by allowing switches\n",
        "def colab_2(word, allow_switches=True):\n",
        "\tcolab_2 = set()\n",
        "\tedit_one = colab_1(word, allow_switches=allow_switches)\n",
        "\tfor w in edit_one:\n",
        "\t\tif w:\n",
        "\t\t\tedit_two = colab_1(w, allow_switches=allow_switches)\n",
        "\t\t\tcolab_2.update(edit_two)\n",
        "\treturn colab_2\n"
      ],
      "metadata": {
        "id": "5V0gNqx9iQPB"
      },
      "execution_count": 29,
      "outputs": []
    },
    {
      "cell_type": "code",
      "source": [
        "# Only storing those values which are in the vocab\n",
        "def get_corrections(word, probs, vocab, n=2):\n",
        "\tsuggested_word = []\n",
        "\tbest_suggestion = []\n",
        "\tsuggested_word = list(\n",
        "\t\t(word in vocab and word) or colab_1(word).intersection(vocab)\n",
        "\t\tor colab_2(word).intersection(\n",
        "\t\t\tvocab))\n",
        "\n",
        "\t# finding out the words with high frequencies\n",
        "\tbest_suggestion = [[s, probs[s]] for s in list(reversed(suggested_word))]\n",
        "\treturn best_suggestion\n"
      ],
      "metadata": {
        "id": "vPgZdm8ViVKv"
      },
      "execution_count": 30,
      "outputs": []
    },
    {
      "cell_type": "code",
      "source": [
        "# Input\n",
        "my_word = input(\"Enter any word:\")\n",
        "\n",
        "# Counting word function\n",
        "word_count = counting_words(main_set)\n",
        "\n",
        "# Calculating probability\n",
        "probs = prob_cal(word_count)\n",
        "\n",
        "# only storing correct words\n",
        "tmp_corrections = get_corrections(my_word, probs, main_set, 2)\n",
        "for i, word_prob in enumerate(tmp_corrections):\n",
        "\tif(i < 3):\n",
        "\t\tprint(word_prob[0])\n",
        "\telse:\n",
        "\t\tbreak\n"
      ],
      "metadata": {
        "colab": {
          "base_uri": "https://localhost:8080/"
        },
        "id": "0QyNIZyLiZlj",
        "outputId": "25979f01-7d69-4917-cf70-4d73278466d7"
      },
      "execution_count": 32,
      "outputs": [
        {
          "output_type": "stream",
          "name": "stdout",
          "text": [
            "Enter any word:daedd\n",
            "dred\n",
            "dyed\n",
            "dande\n"
          ]
        }
      ]
    }
  ]
}